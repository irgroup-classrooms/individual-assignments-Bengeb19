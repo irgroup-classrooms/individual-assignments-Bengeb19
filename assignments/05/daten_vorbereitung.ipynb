{
 "cells": [
  {
   "cell_type": "markdown",
   "metadata": {},
   "source": [
    "# Data Formats, Open Data, Tidy Data\n",
    "\n",
    "In this exercise, you will be working with **Lord of the Rings** data. The dataset can be found on [Kaggle](https://www.kaggle.com/paultimothymooney/lord-of-the-rings-data). \n",
    "\n",
    "1. Download and obtain the following CSV file: [`lotr_scripts.csv`](https://www.kaggle.com/datasets/paultimothymooney/lord-of-the-rings-data?select=lotr_scripts.csv). \n",
    "2. Document and describe the different data fields.\n",
    "3. Identify \"dirty\" data fields and clean them up. Use regex replace, spreadsheets, OpenRefine or whatever you like. \n",
    "4. Document your working steps in a Markdown-formatted file. Export your dataset as a clean CSV file. Add both files to this repository (in this directory). \n",
    "5. Analyze the data set using shell scripts and/or regex. Document the commands in an additional section in your Markdown-formatted file. \n",
    "    * Find the total number of lines and unique words used in the dialogs. \n",
    "    * What is the distribution on the three different films? \n",
    "    * What are the top 5 characters in the char column?\n",
    "    * What are the top 5 characters in the dialogues?"
   ]
  },
  {
   "cell_type": "code",
   "execution_count": 1,
   "metadata": {},
   "outputs": [
    {
     "name": "stdout",
     "output_type": "stream",
     "text": [
      "   Unnamed: 0     char                                             dialog  \\\n",
      "0           0   DEAGOL  Oh Smeagol Ive got one! , Ive got a fish Smeag...   \n",
      "1           1  SMEAGOL     Pull it in! Go on, go on, go on, pull it in!     \n",
      "2           2   DEAGOL                                           Arrghh!    \n",
      "3           3  SMEAGOL                                          Deagol!     \n",
      "4           4  SMEAGOL                                          Deagol!     \n",
      "\n",
      "                     movie  \n",
      "0  The Return of the King   \n",
      "1  The Return of the King   \n",
      "2  The Return of the King   \n",
      "3  The Return of the King   \n",
      "4  The Return of the King   \n",
      "Spalten im Dataset: Index(['Unnamed: 0', 'char', 'dialog', 'movie'], dtype='object')\n"
     ]
    }
   ],
   "source": [
    "import pandas as pd\n",
    "\n",
    "df = pd.read_csv('lotr_scripts.csv')\n",
    "\n",
    "print(df.head())\n",
    "\n",
    "print(\"Spalten im Dataset:\", df.columns)\n"
   ]
  },
  {
   "cell_type": "code",
   "execution_count": 17,
   "metadata": {},
   "outputs": [
    {
     "name": "stdout",
     "output_type": "stream",
     "text": [
      "   Unnamed: 0     char                                             dialog  \\\n",
      "0           0   Deagol  Oh Smeagol Ive got one!, Ive got a fish Smeago...   \n",
      "1           1  Smeagol       Pull it in! Go on, go on, go on, pull it in!   \n",
      "2           2   Deagol                                            Arrghh!   \n",
      "3           3  Smeagol                                            Deagol!   \n",
      "4           4  Smeagol                                            Deagol!   \n",
      "\n",
      "                    movie  \n",
      "0  The Return of the King  \n",
      "1  The Return of the King  \n",
      "2  The Return of the King  \n",
      "3  The Return of the King  \n",
      "4  The Return of the King  \n"
     ]
    }
   ],
   "source": [
    "import pandas as pd\n",
    "import re\n",
    "\n",
    "# DataFrame einlesen\n",
    "df = pd.read_csv('lotr_scripts.csv')\n",
    "\n",
    "# 1. Entferne führende und nachfolgende Leerzeichen aus allen Spalten\n",
    "df['char'] = df['char'].str.strip()\n",
    "df['dialog'] = df['dialog'].str.strip()\n",
    "df['movie'] = df['movie'].str.strip()\n",
    "\n",
    "# 2. Entferne alle Klammern und deren Inhalt nur aus der 'dialog'-Spalte und entfernt mehrere Leerzeichen und entferne Leerzeichen direkt vor einem Komma\n",
    "df['dialog'] = df['dialog'].str.replace(r'\\s+', ' ', regex=True)  # Mehrere Leerzeichen durch ein einziges ersetzen\n",
    "df['dialog'] = df['dialog'].apply(lambda x: re.sub(r'\\(.*?\\)', '', x) if isinstance(x, str) else x)\n",
    "df['dialog'] = df['dialog'].apply(lambda x: re.sub(r'\\s*,', ',', x) if isinstance(x, str) else x) # Entferne Leerzeilen direkt vor einem Komma in der 'dialog' Spalte\n",
    "\n",
    "# 3. Entferne alle Klammern aus allen Spalten, nur wenn der Wert ein String ist\n",
    "df['char'] = df['char'].apply(lambda x: re.sub(r'[()]', '', x) if isinstance(x, str) else x)\n",
    "df['dialog'] = df['dialog'].apply(lambda x: re.sub(r'[()]', '', x) if isinstance(x, str) else x)\n",
    "df['movie'] = df['movie'].apply(lambda x: re.sub(r'[()]', '', x) if isinstance(x, str) else x)\n",
    "\n",
    "# 4. Standardisiere die Groß-/Kleinschreibung der Charaktere\n",
    "df['char'] = df['char'].str.capitalize()  # Erste Buchstaben groß, Rest klein\n",
    "\n",
    "# 5. Entferne \"voice over\" und \"Voiceover\" aus den Charakternamen\n",
    "df['char'] = df['char'].apply(lambda x: re.sub(r'voice[\\s]*over', '', x, flags=re.IGNORECASE) if isinstance(x, str) else x)\n",
    "\n",
    "# 6. Entferne Zeilen mit leeren Dialogen\n",
    "df = df[df['dialog'] != '']\n",
    "\n",
    "# Speichere die bereinigte CSV-Datei\n",
    "df.to_csv('lotr_scripts_clean.csv', index=False)\n",
    "\n",
    "# Ausgabe der ersten Zeilen zur Kontrolle\n",
    "print(df.head())"
   ]
  }
 ],
 "metadata": {
  "kernelspec": {
   "display_name": "base",
   "language": "python",
   "name": "python3"
  },
  "language_info": {
   "codemirror_mode": {
    "name": "ipython",
    "version": 3
   },
   "file_extension": ".py",
   "mimetype": "text/x-python",
   "name": "python",
   "nbconvert_exporter": "python",
   "pygments_lexer": "ipython3",
   "version": "3.11.7"
  }
 },
 "nbformat": 4,
 "nbformat_minor": 2
}
